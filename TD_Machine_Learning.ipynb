{
    "cells": [
        {
            "cell_type": "markdown",
            "source": [
                "# Machine-Learning TD\n",
                "By Corentin Meyer, PhD Student @ CSTB - iCube, 04/10 ESBS\n"
            ],
            "metadata": {}
        },
        {
            "cell_type": "markdown",
            "source": [
                "# PART 1: Import, format and split the data\n",
                "\n",
                "## The Data that we will use\n",
                "## [Stroke Prediction Dataset](https://www.kaggle.com/fedesoriano/stroke-prediction-dataset)\n",
                "### **Context**\n",
                "According to the World Health Organization (WHO) stroke is the 2nd leading cause of death globally, responsible for approximately 11% of total deaths.\n",
                "This dataset is used to predict whether a patient is likely to get stroke based on the input parameters like gender, age, various diseases, and smoking status. Each row in the data provides relavant information about the patient.\n",
                "Attribute Information\n",
                "### **11 clinical features for predicting stroke events**\n",
                "1. **id:** unique identifier\n",
                "2. **gender:** \"Male\", \"Female\" or \"Other\"\n",
                "3. **age**: age of the patient\n",
                "4. **hypertension**: 0 if the patient doesn't have hypertension, 1 if the patient has hypertension\n",
                "5. **heart_disease**: 0 if the patient doesn't have any heart diseases, 1 if the patient has a heart disease\n",
                "6. **ever_married**: \"No\" or \"Yes\"\n",
                "7. **work_type**: \"children\", \"Govt_jov\", \"Never_worked\", \"Private\" or \"Self-employed\"\n",
                "8. **Residence_type**: \"Rural\" or \"Urban\"\n",
                "9. **avg_glucose_level**: average glucose level in blood\n",
                "10. **bmi**: body mass index\n",
                "11. **smoking_status**: \"formerly smoked\", \"never smoked\", \"smokes\" or \"Unknown\"*\n",
                "12. **stroke**: 1 if the patient had a stroke or 0 if not  \n",
                "* Note: \"Unknown\" in smoking_status means that the information is unavailable for this patient"
            ],
            "metadata": {}
        },
        {
            "cell_type": "code",
            "execution_count": null,
            "source": [
                "# Step 1: import the data\n",
                "# How many entries (patients) are in the dataset? How many columns (features) ?\n",
                "import pandas as pd\n",
                "df = pd.read_csv(\"healthcare-dataset-stroke-data.csv\")\n",
                "df.set_index(\"id\", inplace=True)\n",
                "df.head()"
            ],
            "outputs": [],
            "metadata": {}
        },
        {
            "cell_type": "code",
            "execution_count": null,
            "source": [
                "# What is the percentage of the patients that were stroke patients?\n",
                "df[\"stroke\"].value_counts(normalize=True)"
            ],
            "outputs": [],
            "metadata": {}
        },
        {
            "cell_type": "code",
            "execution_count": null,
            "source": [
                "df.dtypes"
            ],
            "outputs": [],
            "metadata": {}
        },
        {
            "cell_type": "code",
            "execution_count": null,
            "source": [
                "columns_nothing = [\"hypertension\", \"heart_disease\", \"stroke\"]\n",
                "columns_categorical = [\"gender\",\"ever_married\", \"work_type\", \"Residence_type\", \"smoking_status\"]\n",
                "columns_numeric = [\"age\", \"avg_glucose_level\",\"bmi\"]"
            ],
            "outputs": [],
            "metadata": {}
        },
        {
            "cell_type": "code",
            "execution_count": null,
            "source": [
                "X_nothing_to_do = df[columns_nothing]\n",
                "X_nothing_to_do = X_nothing_to_do.to_numpy()"
            ],
            "outputs": [],
            "metadata": {}
        },
        {
            "cell_type": "code",
            "execution_count": null,
            "source": [
                "from sklearn.preprocessing import OneHotEncoder, StandardScaler\n",
                "enc = OneHotEncoder()\n",
                "X_cat = df[columns_categorical]\n",
                "X_cat_onehot = enc.fit_transform(X).toarray()\n",
                "X_cat_columns_onehot = enc.get_feature_names()"
            ],
            "outputs": [],
            "metadata": {}
        },
        {
            "cell_type": "code",
            "execution_count": null,
            "source": [
                "X_num = df[columns_numeric]\n",
                "X_num_scaled = StandardScaler().fit_transform(X_num)\n",
                "X_num_columns_scaled = X_num.columns"
            ],
            "outputs": [],
            "metadata": {}
        },
        {
            "cell_type": "code",
            "execution_count": null,
            "source": [
                "import numpy as np\n",
                "array_data = np.concatenate((X_cat_onehot, X_num_scaled, X_nothing_to_do), axis=1)\n",
                "pd.DataFrame(data=array_data, columns=list(X_cat_columns_onehot) + list(X_num_columns_scaled) + columns_nothing)"
            ],
            "outputs": [],
            "metadata": {}
        },
        {
            "cell_type": "markdown",
            "source": [
                "# PART 2: Create your machine-learning model"
            ],
            "metadata": {}
        },
        {
            "cell_type": "markdown",
            "source": [
                "# PART 3: Evaluate your model"
            ],
            "metadata": {}
        },
        {
            "cell_type": "markdown",
            "source": [
                "# BONUS:  Automatic hyper-parameters tuning"
            ],
            "metadata": {}
        },
        {
            "cell_type": "markdown",
            "source": [
                "# Additional Ressources\n",
                "\n",
                "If you want to become an AI Expert: AI Rodmap [https://i.am.ai/roadmap](https://i.am.ai/roadmap)  \n",
                "Visualisation in Python [https://www.python-graph-gallery.com/](https://www.python-graph-gallery.com/)  \n",
                "Public Dataset to create projects [https://github.com/awesomedata/awesome-public-datasets](https://github.com/awesomedata/awesome-public-datasets)  \n",
                "Machine Learning Competitions with Prize [https://www.kaggle.com/](https://www.kaggle.com/)"
            ],
            "metadata": {}
        }
    ],
    "metadata": {
        "orig_nbformat": 4,
        "language_info": {
            "name": "python",
            "version": "3.9.5",
            "mimetype": "text/x-python",
            "codemirror_mode": {
                "name": "ipython",
                "version": 3
            },
            "pygments_lexer": "ipython3",
            "nbconvert_exporter": "python",
            "file_extension": ".py"
        },
        "kernelspec": {
            "name": "python3",
            "display_name": "Python 3.9.5 64-bit ('TD_ML': conda)"
        },
        "interpreter": {
            "hash": "b1f4f77d01ceeeb3f1b50751faca703c6ff6e53a2ece845b812c7f39fafa84f3"
        }
    },
    "nbformat": 4,
    "nbformat_minor": 2
}